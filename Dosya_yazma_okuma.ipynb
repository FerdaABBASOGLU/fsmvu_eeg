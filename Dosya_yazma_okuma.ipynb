{
 "cells": [
  {
   "cell_type": "code",
   "execution_count": 1,
   "metadata": {},
   "outputs": [],
   "source": [
    "import os\n",
    "channels= ['001','002','003','004','005','006','007','008','009','010', '011','012','013','014','015',\n",
    "                  '016','017','018','019','020','021','022','023','024','025','026','027','028','029','030',\n",
    "                  '031','032','033','034','035','036','037','038','039','040','041','042','043','044','045',\n",
    "                  '046','047','048','049','050','051','052','053','054','055','056','057','058','059','060',\n",
    "                  '061','062','063','064','065','066','067','068','069','070','071','072','073','074','075',\n",
    "                  '076','077','078','079','080','081','082','083','084','085','086','087','088','089','090',\n",
    "                  '091','092','093','094','095','096','097','098','099','100']\n",
    "\n",
    "channel_count= 100"
   ]
  },
  {
   "cell_type": "code",
   "execution_count": 2,
   "metadata": {},
   "outputs": [],
   "source": [
    "eegData=[] # this will be the list of lists\n",
    "for channel_no in channels:\n",
    "    signal_file= open(os.getcwd()+ \"\\\\z\\\\Z\"+ channel_no+\".txt\")\n",
    "    #signal_file= open(os.getcwd()+ \"\\\\E\\\\S\"+ channel_no+\".txt\")\n",
    "    signal_temp=[] #temporary list\n",
    "    signal_temp=[] #temporary list\n",
    "    \n",
    "    while (True) :\n",
    "        line= signal_file.readline()\n",
    "        line= line.rstrip('\\n')\n",
    "        if (line == \"\"): # empty row is reached\n",
    "            break\n",
    "        data= line.split()\n",
    "        signal_temp.append(data[0])\n",
    "    eegData.append(signal_temp)"
   ]
  },
  {
   "cell_type": "code",
   "execution_count": 3,
   "metadata": {},
   "outputs": [
    {
     "data": {
      "text/plain": [
       "100"
      ]
     },
     "execution_count": 3,
     "metadata": {},
     "output_type": "execute_result"
    }
   ],
   "source": [
    "len(eegData)"
   ]
  },
  {
   "cell_type": "code",
   "execution_count": 4,
   "metadata": {},
   "outputs": [
    {
     "data": {
      "text/plain": [
       "4097"
      ]
     },
     "execution_count": 4,
     "metadata": {},
     "output_type": "execute_result"
    }
   ],
   "source": [
    "len(eegData[0])"
   ]
  },
  {
   "cell_type": "code",
   "execution_count": 5,
   "metadata": {},
   "outputs": [],
   "source": [
    "import pywt\n",
    "(cA, cD) = pywt.dwt(eegData[0], 'db4')"
   ]
  },
  {
   "cell_type": "code",
   "execution_count": 6,
   "metadata": {},
   "outputs": [],
   "source": [
    "(cA2, cD2) = pywt.dwt(cA, 'db4')"
   ]
  },
  {
   "cell_type": "code",
   "execution_count": 7,
   "metadata": {},
   "outputs": [],
   "source": [
    "(cA3, cD3) = pywt.dwt(cA2, 'db4')"
   ]
  },
  {
   "cell_type": "code",
   "execution_count": 8,
   "metadata": {},
   "outputs": [],
   "source": [
    "(cA4, cD4) = pywt.dwt(cA3, 'db4')"
   ]
  },
  {
   "cell_type": "code",
   "execution_count": 9,
   "metadata": {},
   "outputs": [],
   "source": [
    "(cA5, cD5) = pywt.dwt(cA4, 'db4')"
   ]
  },
  {
   "cell_type": "code",
   "execution_count": 10,
   "metadata": {},
   "outputs": [
    {
     "data": {
      "text/plain": [
       "numpy.ndarray"
      ]
     },
     "execution_count": 10,
     "metadata": {},
     "output_type": "execute_result"
    }
   ],
   "source": [
    "type(cA)"
   ]
  },
  {
   "cell_type": "code",
   "execution_count": 11,
   "metadata": {},
   "outputs": [
    {
     "data": {
      "text/plain": [
       "numpy.ndarray"
      ]
     },
     "execution_count": 11,
     "metadata": {},
     "output_type": "execute_result"
    }
   ],
   "source": [
    "type(eegData)\n",
    "import numpy as np\n",
    "myarray = np.asarray(eegData)\n",
    "type(myarray[0])\n",
    "#type(eegData)"
   ]
  },
  {
   "cell_type": "code",
   "execution_count": 12,
   "metadata": {},
   "outputs": [
    {
     "name": "stdout",
     "output_type": "stream",
     "text": [
      "185.0\n"
     ]
    }
   ],
   "source": [
    "import numpy as np\n",
    "myarray = myarray.astype(np.float)\n",
    "maxmyarray= np.max((myarray[0]))\n",
    "print(maxmyarray)#[float(i) for i in (myarray)]\n",
    "#np.myarray().astype(np.float)\n",
    "#print(np.max(eegData[0]))"
   ]
  },
  {
   "cell_type": "code",
   "execution_count": 13,
   "metadata": {},
   "outputs": [
    {
     "data": {
      "text/plain": [
       "numpy.ndarray"
      ]
     },
     "execution_count": 13,
     "metadata": {},
     "output_type": "execute_result"
    }
   ],
   "source": [
    "import numpy as np\n",
    "type(cA)"
   ]
  },
  {
   "cell_type": "code",
   "execution_count": 14,
   "metadata": {},
   "outputs": [
    {
     "name": "stdout",
     "output_type": "stream",
     "text": [
      "2.05252875014719\n"
     ]
    }
   ],
   "source": [
    "#KONTROL satırı\n",
    "#eegData[0] cd3 ortalama değeri\n",
    "(cA, cD) = pywt.dwt(eegData[0], 'db4')\n",
    "(cA2, cD2) = pywt.dwt(cA, 'db4')\n",
    "(cA3, cD3) = pywt.dwt(cA2, 'db4')\n",
    "print(np.mean(cD3))\n"
   ]
  },
  {
   "cell_type": "code",
   "execution_count": 15,
   "metadata": {},
   "outputs": [
    {
     "name": "stdout",
     "output_type": "stream",
     "text": [
      "-0.33809635472550487\n"
     ]
    }
   ],
   "source": [
    "#KONTROL satırı\n",
    "#eegData[1] cd3 ortalama değeri\n",
    "(cA, cD) = pywt.dwt(eegData[1], 'db4')\n",
    "(cA2, cD2) = pywt.dwt(cA, 'db4')\n",
    "(cA3, cD3) = pywt.dwt(cA2, 'db4')\n",
    "print(np.mean(cD3))"
   ]
  },
  {
   "cell_type": "code",
   "execution_count": 16,
   "metadata": {},
   "outputs": [],
   "source": [
    "import pywt\n",
    "import numpy as np\n",
    "import pandas as pd\n",
    "import scipy as sc\n",
    "\n",
    "# Input a pandas series \n",
    "#def ent(data):\n",
    "#    p_data= data.value_counts()/len(data) # calculates the probabilities\n",
    "#    entropy=sc.stats.entropy(p_data)  # input probabilities to get the entropy \n",
    "#    return entropy\n",
    "\n",
    "file = open('C:\\\\Users\\\\ASUS\\\\Desktop\\\\test1A.txt','w')\n",
    "   \n",
    "for i in range(0,100):\n",
    "   \n",
    "    myarray = np.asarray(eegData)\n",
    "    myarray = myarray.astype(np.float)\n",
    "    maxmyarray= np.max((myarray[i]))\n",
    "    minmyarray= np.min((myarray[i]))\n",
    "    meanmyarray= np.mean((myarray[i]))\n",
    "    #max_sin=np.max(myarray[i])\n",
    "    \n",
    "    (cA, cD) = pywt.dwt(eegData[i], 'db4')\n",
    "    (cA2, cD2) = pywt.dwt(cA, 'db4')\n",
    "    (cA3, cD3) = pywt.dwt(cA2, 'db4')\n",
    "    (cA4, cD4) = pywt.dwt(cA3, 'db4')\n",
    "    (cA5, cD5) = pywt.dwt(cA4, 'db4')\n",
    "    absolute_val_cD3 = abs(cD3)\n",
    "    absolute_val_cD4 = abs(cD4)\n",
    "    absolute_val_cD5 = abs(cD5)\n",
    "    absolute_val_cA5 = abs(cA5)\n",
    "    energy_cd3= np.sqrt(np.sum(np.array(cD3) ** 2)) / len(cD3)\n",
    "    energy_cd4= np.sqrt(np.sum(np.array(cD4) ** 2)) / len(cD4)\n",
    "    energy_cd5= np.sqrt(np.sum(np.array(cD5) ** 2)) / len(cD5)\n",
    "    energy_ca5= np.sqrt(np.sum(np.array(cA5) ** 2)) / len(cA5)\n",
    "  #  Vector = pywt.wavedec(D, db1)\n",
    "   # Energy(3)=np.sqrt(sum([x**2 for x in Vecktor[len(Vektor)-N-1-k]])/len(Vektor))\n",
    "    #energy_ca3=np.sqrt(np.sum(np.array(cA3[-3]) ** 2)) / len(cA3[-3])\n",
    "  #  sh=eegData[i]\n",
    "  #  p_data= sh.count()/len(sh) \n",
    "  #  entropy=sc.stats.entropy(p_data) #entorpy\n",
    "#RATİO\n",
    "    abs_cD3_mean=np.mean(abs(cD3))\n",
    "    abs_cD4_mean=np.mean(abs(cD4))\n",
    "    abs_cD5_mean=np.mean(abs(cD5))\n",
    "    abs_cA5_mean=np.mean(abs(cA5))\n",
    "    ratio_1=np.mean(absolute_val_cD3)/np.mean(absolute_val_cD4)\n",
    "    ratio_2=np.mean(absolute_val_cD4)/np.mean(absolute_val_cD5)\n",
    "    ratio_3=np.mean(absolute_val_cD5)/np.mean(absolute_val_cA5)\n",
    "    cd3_ortalama=np.mean(cD3)\n",
    "    cd4_ortalama=np.mean(cD4)\n",
    "    cd5_ortalama=np.mean(cD5)\n",
    "    ca5_ortalama=np.mean(cA5)\n",
    "    #eegdata_ortalama=np.mean(eegData[i])\n",
    "    cd3_sd=np.std(cD3)# standart deviation\n",
    "    cd4_sd=np.std(cD4)# standart deviation\n",
    "    cd5_sd=np.std(cD5)# standart deviation\n",
    "    ca5_sd=np.std(cA5)# standart deviation\n",
    "    #eegdata_sd=np.std(eegData[i])#standart deviation\n",
    "    cd3_max=np.max(cD3)\n",
    "    cd4_max=np.max(cD4)\n",
    "    cd5_max=np.max(cD5)\n",
    "    ca5_max=np.max(cA5)\n",
    "    #eegdata_max=np.max(eegData[i])\n",
    "    cd3_min=np.min(cD3)\n",
    "    cd4_min=np.min(cD4)\n",
    "    cd5_min=np.min(cD5)\n",
    "    ca5_min=np.min(cA5)\n",
    "    #eegdata_min=np.min(eegData[i])\n",
    "\n",
    "\n",
    "    file.write('%s'%cd3_ortalama )\n",
    "    file.write('\\t')\n",
    "    file.write('%s' %cd4_ortalama )\n",
    "    file.write('\\t')\n",
    "    file.write('%s'%cd5_ortalama )\n",
    "    file.write('\\t')\n",
    "    file.write('%s'%ca5_ortalama)\n",
    "    file.write('\\t')\n",
    "    #file.write('%s'%eegdata_ortalama)\n",
    "    #file.write('\\t')\n",
    "    file.write('%s'%cd3_sd )\n",
    "    file.write('\\t')\n",
    "    file.write('%s' %cd4_sd )\n",
    "    file.write('\\t')\n",
    "    file.write('%s'%cd5_sd )\n",
    "    file.write('\\t')\n",
    "    file.write('%s'%ca5_sd)\n",
    "    file.write('\\t')\n",
    "    #file.write('%s'%eegdata_sd)\n",
    "    #file.write('\\t')\n",
    "    file.write('%s'%cd3_max)\n",
    "    file.write('\\t')\n",
    "    file.write('%s'%cd4_max)\n",
    "    file.write('\\t')\n",
    "    file.write('%s'%cd5_max)\n",
    "    file.write('\\t')\n",
    "    file.write('%s'%ca5_max)\n",
    "    file.write('\\t')\n",
    "    #file.write('%s'%eegdata_max)\n",
    "    #file.write('\\t')\n",
    "    file.write('%s'%cd3_min)\n",
    "    file.write('\\t')\n",
    "    file.write('%s'%cd4_min)\n",
    "    file.write('\\t')\n",
    "    file.write('%s'%cd5_min)\n",
    "    file.write('\\t')\n",
    "    file.write('%s'%ca5_min)\n",
    "    file.write('\\t')\n",
    "    file.write('%s'%maxmyarray)\n",
    "    file.write('\\t')\n",
    "    file.write('%s'%minmyarray)\n",
    "    file.write('\\t')\n",
    "    file.write('%s'%meanmyarray)\n",
    "    file.write('\\t')\n",
    "    file.write('%s'%ratio_1)\n",
    "    file.write('\\t')\n",
    "    file.write('%s'%ratio_2)\n",
    "    file.write('\\t')\n",
    "    file.write('%s'%ratio_3)\n",
    "    file.write('\\t')\n",
    "    file.write('%s'%energy_cd3)\n",
    "    file.write('\\t')\n",
    "    file.write('%s'%energy_cd4)\n",
    "    file.write('\\t')\n",
    "    file.write('%s'%energy_cd5)\n",
    "    file.write('\\t')\n",
    "    file.write('%s'%energy_ca5)\n",
    "    file.write('\\t')\n",
    "    #file.write('%s'%abs_cD3_mean)\n",
    "    #file.write('\\t')\n",
    "    #file.write('%s'%abs_cD4_mean)\n",
    "    #file.write('\\t')\n",
    "    #file.write('%s'%abs_cD5_mean)\n",
    "    #file.write('\\t')\n",
    "    #file.write('%s'%abs_cA5_mean)\n",
    "    #file.write('\\t')\n",
    "    \n",
    "       \n",
    "   \n",
    "  \n",
    "   \n",
    "    #30 input\n",
    "\n",
    "    \n",
    "    #file.write('%s'%eegdata_min)\n",
    "    #file.write('\\t')\n",
    "file.close()# FOR UN İÇİNDE OLAMAZ "
   ]
  }
 ],
 "metadata": {
  "kernelspec": {
   "display_name": "Python 2",
   "language": "python",
   "name": "python2"
  },
  "language_info": {
   "codemirror_mode": {
    "name": "ipython",
    "version": 2
   },
   "file_extension": ".py",
   "mimetype": "text/x-python",
   "name": "python",
   "nbconvert_exporter": "python",
   "pygments_lexer": "ipython2",
   "version": "2.7.14"
  }
 },
 "nbformat": 4,
 "nbformat_minor": 2
}
